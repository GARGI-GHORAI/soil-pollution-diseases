{
 "cells": [
  {
   "cell_type": "code",
   "execution_count": 1,
   "id": "95d6ae08-c28e-4428-b9cc-dbc42589889a",
   "metadata": {
    "editable": true,
    "slideshow": {
     "slide_type": ""
    },
    "tags": []
   },
   "outputs": [
    {
     "name": "stdout",
     "output_type": "stream",
     "text": [
      "<class 'pandas.core.frame.DataFrame'>\n",
      "RangeIndex: 3000 entries, 0 to 2999\n",
      "Data columns (total 24 columns):\n",
      " #   Column                         Non-Null Count  Dtype         \n",
      "---  ------                         --------------  -----         \n",
      " 0   Case_ID                        3000 non-null   object        \n",
      " 1   Date_Reported                  3000 non-null   datetime64[ns]\n",
      " 2   Region                         3000 non-null   object        \n",
      " 3   Country                        3000 non-null   object        \n",
      " 4   Pollutant_Type                 3000 non-null   object        \n",
      " 5   Pollutant_Concentration_mg_kg  3000 non-null   float64       \n",
      " 6   Soil_pH                        3000 non-null   float64       \n",
      " 7   Temperature_C                  3000 non-null   float64       \n",
      " 8   Humidity_%                     3000 non-null   float64       \n",
      " 9   Rainfall_mm                    3000 non-null   float64       \n",
      " 10  Crop_Type                      3000 non-null   object        \n",
      " 11  Farming_Practice               3000 non-null   object        \n",
      " 12  Nearby_Industry                2418 non-null   object        \n",
      " 13  Water_Source_Type              3000 non-null   object        \n",
      " 14  Soil_Texture                   3000 non-null   object        \n",
      " 15  Soil_Organic_Matter_%          3000 non-null   float64       \n",
      " 16  Disease_Type                   3000 non-null   object        \n",
      " 17  Disease_Severity               3000 non-null   object        \n",
      " 18  Health_Symptoms                3000 non-null   object        \n",
      " 19  Age_Group_Affected             3000 non-null   object        \n",
      " 20  Gender_Most_Affected           3000 non-null   object        \n",
      " 21  Mitigation_Measure             3000 non-null   object        \n",
      " 22  Case_Resolved                  3000 non-null   object        \n",
      " 23  Follow_Up_Required             3000 non-null   object        \n",
      "dtypes: datetime64[ns](1), float64(6), object(17)\n",
      "memory usage: 562.6+ KB\n"
     ]
    }
   ],
   "source": [
    "#Changing dates to datetime format\n",
    "import pandas as pd\n",
    "df = pd.read_csv(\"soil_pollution_diseases.csv\")\n",
    "df['Date_Reported'] = pd.to_datetime(df['Date_Reported'], dayfirst=True, errors='coerce')\n",
    "df.info()"
   ]
  },
  {
   "cell_type": "code",
   "execution_count": 7,
   "id": "ce7f230e-fe46-4d21-adfb-9e3ca1f609b7",
   "metadata": {},
   "outputs": [
    {
     "data": {
      "text/plain": [
       "(3000, 24)"
      ]
     },
     "execution_count": 7,
     "metadata": {},
     "output_type": "execute_result"
    }
   ],
   "source": [
    "df.shape"
   ]
  },
  {
   "cell_type": "code",
   "execution_count": 9,
   "id": "930d0587-a1c5-4a76-bc86-9a6309eb2d05",
   "metadata": {},
   "outputs": [
    {
     "data": {
      "text/plain": [
       "Case_ID                            0\n",
       "Date_Reported                      0\n",
       "Region                             0\n",
       "Country                            0\n",
       "Pollutant_Type                     0\n",
       "Pollutant_Concentration_mg_kg      0\n",
       "Soil_pH                            0\n",
       "Temperature_C                      0\n",
       "Humidity_%                         0\n",
       "Rainfall_mm                        0\n",
       "Crop_Type                          0\n",
       "Farming_Practice                   0\n",
       "Nearby_Industry                  582\n",
       "Water_Source_Type                  0\n",
       "Soil_Texture                       0\n",
       "Soil_Organic_Matter_%              0\n",
       "Disease_Type                       0\n",
       "Disease_Severity                   0\n",
       "Health_Symptoms                    0\n",
       "Age_Group_Affected                 0\n",
       "Gender_Most_Affected               0\n",
       "Mitigation_Measure                 0\n",
       "Case_Resolved                      0\n",
       "Follow_Up_Required                 0\n",
       "dtype: int64"
      ]
     },
     "execution_count": 9,
     "metadata": {},
     "output_type": "execute_result"
    }
   ],
   "source": [
    "df.isnull().sum()"
   ]
  },
  {
   "cell_type": "code",
   "execution_count": 13,
   "id": "d5c2d333-7f1b-4a4d-b318-7e9d7629eb36",
   "metadata": {},
   "outputs": [
    {
     "data": {
      "text/html": [
       "<div>\n",
       "<style scoped>\n",
       "    .dataframe tbody tr th:only-of-type {\n",
       "        vertical-align: middle;\n",
       "    }\n",
       "\n",
       "    .dataframe tbody tr th {\n",
       "        vertical-align: top;\n",
       "    }\n",
       "\n",
       "    .dataframe thead th {\n",
       "        text-align: right;\n",
       "    }\n",
       "</style>\n",
       "<table border=\"1\" class=\"dataframe\">\n",
       "  <thead>\n",
       "    <tr style=\"text-align: right;\">\n",
       "      <th></th>\n",
       "      <th>Case_ID</th>\n",
       "      <th>Date_Reported</th>\n",
       "      <th>Region</th>\n",
       "      <th>Country</th>\n",
       "      <th>Pollutant_Type</th>\n",
       "      <th>Pollutant_Concentration_mg_kg</th>\n",
       "      <th>Soil_pH</th>\n",
       "      <th>Temperature_C</th>\n",
       "      <th>Humidity_%</th>\n",
       "      <th>Rainfall_mm</th>\n",
       "      <th>...</th>\n",
       "      <th>Soil_Texture</th>\n",
       "      <th>Soil_Organic_Matter_%</th>\n",
       "      <th>Disease_Type</th>\n",
       "      <th>Disease_Severity</th>\n",
       "      <th>Health_Symptoms</th>\n",
       "      <th>Age_Group_Affected</th>\n",
       "      <th>Gender_Most_Affected</th>\n",
       "      <th>Mitigation_Measure</th>\n",
       "      <th>Case_Resolved</th>\n",
       "      <th>Follow_Up_Required</th>\n",
       "    </tr>\n",
       "  </thead>\n",
       "  <tbody>\n",
       "    <tr>\n",
       "      <th>0</th>\n",
       "      <td>CASE_100000</td>\n",
       "      <td>2024-09-12</td>\n",
       "      <td>Africa</td>\n",
       "      <td>Pakistan</td>\n",
       "      <td>Lead</td>\n",
       "      <td>78.04</td>\n",
       "      <td>8.30</td>\n",
       "      <td>35.6</td>\n",
       "      <td>64.9</td>\n",
       "      <td>62.4</td>\n",
       "      <td>...</td>\n",
       "      <td>Sandy</td>\n",
       "      <td>1.98</td>\n",
       "      <td>Gastrointestinal Disease</td>\n",
       "      <td>Moderate</td>\n",
       "      <td>Breathing Difficulty</td>\n",
       "      <td>Adults</td>\n",
       "      <td>Male</td>\n",
       "      <td>Government Regulation</td>\n",
       "      <td>No</td>\n",
       "      <td>Yes</td>\n",
       "    </tr>\n",
       "    <tr>\n",
       "      <th>1</th>\n",
       "      <td>CASE_100001</td>\n",
       "      <td>2024-01-01</td>\n",
       "      <td>Africa</td>\n",
       "      <td>Germany</td>\n",
       "      <td>Lead</td>\n",
       "      <td>16.33</td>\n",
       "      <td>7.96</td>\n",
       "      <td>31.0</td>\n",
       "      <td>73.1</td>\n",
       "      <td>8.2</td>\n",
       "      <td>...</td>\n",
       "      <td>Silty</td>\n",
       "      <td>9.71</td>\n",
       "      <td>Cancer</td>\n",
       "      <td>Mild</td>\n",
       "      <td>Breathing Difficulty</td>\n",
       "      <td>Elderly</td>\n",
       "      <td>Both</td>\n",
       "      <td>Community Awareness</td>\n",
       "      <td>Yes</td>\n",
       "      <td>No</td>\n",
       "    </tr>\n",
       "  </tbody>\n",
       "</table>\n",
       "<p>2 rows × 24 columns</p>\n",
       "</div>"
      ],
      "text/plain": [
       "       Case_ID Date_Reported  Region   Country Pollutant_Type  \\\n",
       "0  CASE_100000    2024-09-12  Africa  Pakistan           Lead   \n",
       "1  CASE_100001    2024-01-01  Africa   Germany           Lead   \n",
       "\n",
       "   Pollutant_Concentration_mg_kg  Soil_pH  Temperature_C  Humidity_%  \\\n",
       "0                          78.04     8.30           35.6        64.9   \n",
       "1                          16.33     7.96           31.0        73.1   \n",
       "\n",
       "   Rainfall_mm  ... Soil_Texture Soil_Organic_Matter_%  \\\n",
       "0         62.4  ...        Sandy                  1.98   \n",
       "1          8.2  ...        Silty                  9.71   \n",
       "\n",
       "               Disease_Type Disease_Severity       Health_Symptoms  \\\n",
       "0  Gastrointestinal Disease         Moderate  Breathing Difficulty   \n",
       "1                    Cancer             Mild  Breathing Difficulty   \n",
       "\n",
       "   Age_Group_Affected Gender_Most_Affected     Mitigation_Measure  \\\n",
       "0              Adults                 Male  Government Regulation   \n",
       "1             Elderly                 Both    Community Awareness   \n",
       "\n",
       "  Case_Resolved Follow_Up_Required  \n",
       "0            No                Yes  \n",
       "1           Yes                 No  \n",
       "\n",
       "[2 rows x 24 columns]"
      ]
     },
     "execution_count": 13,
     "metadata": {},
     "output_type": "execute_result"
    }
   ],
   "source": [
    "df.head(2)"
   ]
  },
  {
   "cell_type": "code",
   "execution_count": null,
   "id": "490c2ca6-56e6-4068-ae4c-adad85bdbdc8",
   "metadata": {},
   "outputs": [],
   "source": []
  }
 ],
 "metadata": {
  "kernelspec": {
   "display_name": "Python 3 (ipykernel)",
   "language": "python",
   "name": "python3"
  },
  "language_info": {
   "codemirror_mode": {
    "name": "ipython",
    "version": 3
   },
   "file_extension": ".py",
   "mimetype": "text/x-python",
   "name": "python",
   "nbconvert_exporter": "python",
   "pygments_lexer": "ipython3",
   "version": "3.12.4"
  }
 },
 "nbformat": 4,
 "nbformat_minor": 5
}
