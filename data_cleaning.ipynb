{
 "cells": [
  {
   "cell_type": "code",
   "execution_count": 29,
   "id": "17b18a50-d285-4653-8f30-fe938d3798ed",
   "metadata": {},
   "outputs": [
    {
     "name": "stdout",
     "output_type": "stream",
     "text": [
      "   Store  Dept        Date  Weekly_Sales  IsHoliday    Set  Temperature  \\\n",
      "0      1     1  2010-02-05      24924.50      False  train        42.31   \n",
      "1      1     1  2010-02-12      46039.49       True  train        38.51   \n",
      "2      1     1  2010-02-19      41595.55      False  train        39.93   \n",
      "3      1     1  2010-02-26      19403.54      False  train        46.63   \n",
      "4      1     1  2010-03-05      21827.90      False  train        46.50   \n",
      "5      1     1  2010-03-12      21043.39      False  train        57.79   \n",
      "6      1     1  2010-03-19      22136.64      False  train        54.58   \n",
      "7      1     1  2010-03-26      26229.21      False  train        51.45   \n",
      "8      1     1  2010-04-02      57258.43      False  train        62.27   \n",
      "9      1     1  2010-04-09      42960.91      False  train        65.86   \n",
      "\n",
      "   Fuel_Price  MarkDown1  MarkDown2  MarkDown3  MarkDown4  MarkDown5  \\\n",
      "0       2.572        NaN        NaN        NaN        NaN        NaN   \n",
      "1       2.548        NaN        NaN        NaN        NaN        NaN   \n",
      "2       2.514        NaN        NaN        NaN        NaN        NaN   \n",
      "3       2.561        NaN        NaN        NaN        NaN        NaN   \n",
      "4       2.625        NaN        NaN        NaN        NaN        NaN   \n",
      "5       2.667        NaN        NaN        NaN        NaN        NaN   \n",
      "6       2.720        NaN        NaN        NaN        NaN        NaN   \n",
      "7       2.732        NaN        NaN        NaN        NaN        NaN   \n",
      "8       2.719        NaN        NaN        NaN        NaN        NaN   \n",
      "9       2.770        NaN        NaN        NaN        NaN        NaN   \n",
      "\n",
      "          CPI  Unemployment  \n",
      "0  211.096358         8.106  \n",
      "1  211.242170         8.106  \n",
      "2  211.289143         8.106  \n",
      "3  211.319643         8.106  \n",
      "4  211.350143         8.106  \n",
      "5  211.380643         8.106  \n",
      "6  211.215635         8.106  \n",
      "7  211.018042         8.106  \n",
      "8  210.820450         7.808  \n",
      "9  210.622857         7.808  \n"
     ]
    }
   ],
   "source": [
    "import pandas as pd\n",
    "import numpy as np\n",
    "\n",
    "train = pd.read_csv(\"train.csv\")\n",
    "test = pd.read_csv(\"test.csv\")\n",
    "features = pd.read_csv(\"features.csv\")\n",
    "\n",
    "train[\"Set\"] = \"train\"\n",
    "test[\"Set\"] = \"test\"\n",
    "\n",
    "# Fix: add Weekly_Sales to test with matching dtype\n",
    "test[\"Weekly_Sales\"] = np.nan\n",
    "test[\"Weekly_Sales\"] = test[\"Weekly_Sales\"].astype(train[\"Weekly_Sales\"].dtype)\n",
    "\n",
    "# Align column order\n",
    "test = test[train.columns]\n",
    "\n",
    "# Combine\n",
    "combined = pd.concat([train, test], axis=0, ignore_index=True)\n",
    "\n",
    "# Drop duplicate IsHoliday from features\n",
    "features = features.drop(columns=[\"IsHoliday\"])\n",
    "\n",
    "# Merge with features\n",
    "merged_all = pd.merge(combined, features, on=[\"Store\", \"Date\"], how=\"left\")\n",
    "\n",
    "merged_all.to_csv(\"walmart_combined_data.csv\", index=False)\n",
    "print(merged_all.head(10))  # First 10 rows\n",
    "\n"
   ]
  },
  {
   "cell_type": "code",
   "execution_count": null,
   "id": "af811ae6-e63b-48d6-933c-5385e2a11ede",
   "metadata": {},
   "outputs": [],
   "source": []
  }
 ],
 "metadata": {
  "kernelspec": {
   "display_name": "Python 3 (ipykernel)",
   "language": "python",
   "name": "python3"
  },
  "language_info": {
   "codemirror_mode": {
    "name": "ipython",
    "version": 3
   },
   "file_extension": ".py",
   "mimetype": "text/x-python",
   "name": "python",
   "nbconvert_exporter": "python",
   "pygments_lexer": "ipython3",
   "version": "3.12.4"
  }
 },
 "nbformat": 4,
 "nbformat_minor": 5
}
