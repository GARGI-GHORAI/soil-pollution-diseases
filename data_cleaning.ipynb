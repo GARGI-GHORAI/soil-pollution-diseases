{
 "cells": [
  {
   "cell_type": "code",
<<<<<<< HEAD
   "execution_count": 9,
   "id": "95d6ae08-c28e-4428-b9cc-dbc42589889a",
   "metadata": {
    "editable": true,
    "slideshow": {
     "slide_type": ""
    },
    "tags": []
   },
=======
   "execution_count": 29,
   "id": "17b18a50-d285-4653-8f30-fe938d3798ed",
   "metadata": {},
>>>>>>> 9bc0597f1143672a21bc1470f980549c14f99bf2
   "outputs": [
    {
     "name": "stdout",
     "output_type": "stream",
     "text": [
      "   Store  Dept        Date  Weekly_Sales  IsHoliday    Set  Temperature  \\\n",
      "0      1     1  2010-02-05      24924.50      False  train        42.31   \n",
      "1      1     1  2010-02-12      46039.49       True  train        38.51   \n",
      "2      1     1  2010-02-19      41595.55      False  train        39.93   \n",
      "3      1     1  2010-02-26      19403.54      False  train        46.63   \n",
      "4      1     1  2010-03-05      21827.90      False  train        46.50   \n",
      "5      1     1  2010-03-12      21043.39      False  train        57.79   \n",
      "6      1     1  2010-03-19      22136.64      False  train        54.58   \n",
      "7      1     1  2010-03-26      26229.21      False  train        51.45   \n",
      "8      1     1  2010-04-02      57258.43      False  train        62.27   \n",
      "9      1     1  2010-04-09      42960.91      False  train        65.86   \n",
      "\n",
      "   Fuel_Price  MarkDown1  MarkDown2  MarkDown3  MarkDown4  MarkDown5  \\\n",
      "0       2.572        NaN        NaN        NaN        NaN        NaN   \n",
      "1       2.548        NaN        NaN        NaN        NaN        NaN   \n",
      "2       2.514        NaN        NaN        NaN        NaN        NaN   \n",
      "3       2.561        NaN        NaN        NaN        NaN        NaN   \n",
      "4       2.625        NaN        NaN        NaN        NaN        NaN   \n",
      "5       2.667        NaN        NaN        NaN        NaN        NaN   \n",
      "6       2.720        NaN        NaN        NaN        NaN        NaN   \n",
      "7       2.732        NaN        NaN        NaN        NaN        NaN   \n",
      "8       2.719        NaN        NaN        NaN        NaN        NaN   \n",
      "9       2.770        NaN        NaN        NaN        NaN        NaN   \n",
      "\n",
      "          CPI  Unemployment  \n",
      "0  211.096358         8.106  \n",
      "1  211.242170         8.106  \n",
      "2  211.289143         8.106  \n",
      "3  211.319643         8.106  \n",
      "4  211.350143         8.106  \n",
      "5  211.380643         8.106  \n",
      "6  211.215635         8.106  \n",
      "7  211.018042         8.106  \n",
      "8  210.820450         7.808  \n",
      "9  210.622857         7.808  \n"
     ]
    }
   ],
   "source": [
    "import pandas as pd\n",
    "import numpy as np\n",
    "\n",
    "train = pd.read_csv(\"train.csv\")\n",
    "test = pd.read_csv(\"test.csv\")\n",
    "features = pd.read_csv(\"features.csv\")\n",
    "\n",
    "train[\"Set\"] = \"train\"\n",
    "test[\"Set\"] = \"test\"\n",
    "\n",
    "# Fix: add Weekly_Sales to test with matching dtype\n",
    "test[\"Weekly_Sales\"] = np.nan\n",
    "test[\"Weekly_Sales\"] = test[\"Weekly_Sales\"].astype(train[\"Weekly_Sales\"].dtype)\n",
    "\n",
    "# Align column order\n",
    "test = test[train.columns]\n",
    "\n",
    "# Combine\n",
    "combined = pd.concat([train, test], axis=0, ignore_index=True)\n",
    "\n",
    "# Drop duplicate IsHoliday from features\n",
    "features = features.drop(columns=[\"IsHoliday\"])\n",
    "\n",
    "# Merge with features\n",
    "merged_all = pd.merge(combined, features, on=[\"Store\", \"Date\"], how=\"left\")\n",
    "\n",
    "merged_all.to_csv(\"walmart_combined_data.csv\", index=False)\n",
    "print(merged_all.head(10))  # First 10 rows\n",
    "\n"
   ]
  },
  {
   "cell_type": "code",
<<<<<<< HEAD
   "execution_count": 11,
   "id": "ce7f230e-fe46-4d21-adfb-9e3ca1f609b7",
=======
   "execution_count": null,
   "id": "af811ae6-e63b-48d6-933c-5385e2a11ede",
>>>>>>> 9bc0597f1143672a21bc1470f980549c14f99bf2
   "metadata": {},
   "outputs": [
    {
     "data": {
      "text/plain": [
       "Case_ID                          3000\n",
       "Date_Reported                    3000\n",
       "Region                           3000\n",
       "Country                          3000\n",
       "Pollutant_Type                   3000\n",
       "Pollutant_Concentration_mg_kg    3000\n",
       "Soil_pH                          3000\n",
       "Temperature_C                    3000\n",
       "Humidity_%                       3000\n",
       "Rainfall_mm                      3000\n",
       "Crop_Type                        3000\n",
       "Farming_Practice                 3000\n",
       "Nearby_Industry                  2418\n",
       "Water_Source_Type                3000\n",
       "Soil_Texture                     3000\n",
       "Soil_Organic_Matter_%            3000\n",
       "Disease_Type                     3000\n",
       "Disease_Severity                 3000\n",
       "Health_Symptoms                  3000\n",
       "Age_Group_Affected               3000\n",
       "Gender_Most_Affected             3000\n",
       "Mitigation_Measure               3000\n",
       "Case_Resolved                    3000\n",
       "Follow_Up_Required               3000\n",
       "dtype: int64"
      ]
     },
     "execution_count": 11,
     "metadata": {},
     "output_type": "execute_result"
    }
   ],
   "source": [
    "df.count()\n"
   ]
  },
  {
   "cell_type": "code",
   "execution_count": 17,
   "id": "81d129d3-a44d-4b71-bd73-3251c7d4c61a",
   "metadata": {},
   "outputs": [
    {
     "data": {
      "text/plain": [
       "Case_ID                            0\n",
       "Date_Reported                      0\n",
       "Region                             0\n",
       "Country                            0\n",
       "Pollutant_Type                     0\n",
       "Pollutant_Concentration_mg_kg      0\n",
       "Soil_pH                            0\n",
       "Temperature_C                      0\n",
       "Humidity_%                         0\n",
       "Rainfall_mm                        0\n",
       "Crop_Type                          0\n",
       "Farming_Practice                   0\n",
       "Nearby_Industry                  582\n",
       "Water_Source_Type                  0\n",
       "Soil_Texture                       0\n",
       "Soil_Organic_Matter_%              0\n",
       "Disease_Type                       0\n",
       "Disease_Severity                   0\n",
       "Health_Symptoms                    0\n",
       "Age_Group_Affected                 0\n",
       "Gender_Most_Affected               0\n",
       "Mitigation_Measure                 0\n",
       "Case_Resolved                      0\n",
       "Follow_Up_Required                 0\n",
       "dtype: int64"
      ]
     },
     "execution_count": 17,
     "metadata": {},
     "output_type": "execute_result"
    }
   ],
   "source": [
    "df.isnull().sum()"
   ]
  },
  {
   "cell_type": "code",
   "execution_count": 35,
   "id": "a8deac25-7687-4a1b-ae36-009dbea4bf66",
   "metadata": {},
   "outputs": [
    {
     "data": {
      "text/plain": [
       "0      Mining\n",
       "1      Mining\n",
       "2    Chemical\n",
       "3         NaN\n",
       "4    Chemical\n",
       "Name: Nearby_Industry, dtype: object"
      ]
     },
     "execution_count": 35,
     "metadata": {},
     "output_type": "execute_result"
    }
   ],
   "source": [
    "df.head()"
   ]
  },
  {
   "cell_type": "code",
   "execution_count": 33,
   "id": "2aa6d926-4e05-4b00-a595-852fc4604cd0",
   "metadata": {},
   "outputs": [
    {
     "data": {
      "text/plain": [
       "(3000,)"
      ]
     },
     "execution_count": 33,
     "metadata": {},
     "output_type": "execute_result"
    }
   ],
   "source": [
    "df.shape"
   ]
  },
  {
   "cell_type": "code",
   "execution_count": 19,
   "id": "b4a4f139-1ccd-48d4-b8e1-1e34be967e81",
   "metadata": {},
   "outputs": [],
   "source": [
    "df=df['Nearby_Industry']"
   ]
  },
  {
   "cell_type": "code",
   "execution_count": 21,
   "id": "65e427c3-e05d-41ba-abe9-a63638b37ed9",
   "metadata": {},
   "outputs": [
    {
     "data": {
      "text/plain": [
       "0            Mining\n",
       "1            Mining\n",
       "2          Chemical\n",
       "3               NaN\n",
       "4          Chemical\n",
       "           ...     \n",
       "2995    Agriculture\n",
       "2996    Agriculture\n",
       "2997         Mining\n",
       "2998       Chemical\n",
       "2999        Textile\n",
       "Name: Nearby_Industry, Length: 3000, dtype: object"
      ]
     },
     "execution_count": 21,
     "metadata": {},
     "output_type": "execute_result"
    }
   ],
   "source": [
    "df"
   ]
  },
  {
   "cell_type": "code",
   "execution_count": 23,
   "id": "717f890b-1a38-4210-9ee9-a778aaa7396f",
   "metadata": {},
   "outputs": [
    {
     "ename": "TypeError",
     "evalue": "'tuple' object is not callable",
     "output_type": "error",
     "traceback": [
      "\u001b[1;31m---------------------------------------------------------------------------\u001b[0m",
      "\u001b[1;31mTypeError\u001b[0m                                 Traceback (most recent call last)",
      "Cell \u001b[1;32mIn[23], line 1\u001b[0m\n\u001b[1;32m----> 1\u001b[0m df\u001b[38;5;241m.\u001b[39mshape()\n",
      "\u001b[1;31mTypeError\u001b[0m: 'tuple' object is not callable"
     ]
    }
   ],
   "source": []
  },
  {
   "cell_type": "code",
   "execution_count": null,
   "id": "df497f3b-9b32-45eb-9c7a-12ca043e15f2",
   "metadata": {},
   "outputs": [],
   "source": []
  }
 ],
 "metadata": {
  "kernelspec": {
   "display_name": "Python [conda env:base] *",
   "language": "python",
   "name": "conda-base-py"
  },
  "language_info": {
   "codemirror_mode": {
    "name": "ipython",
    "version": 3
   },
   "file_extension": ".py",
   "mimetype": "text/x-python",
   "name": "python",
   "nbconvert_exporter": "python",
   "pygments_lexer": "ipython3",
   "version": "3.12.7"
  }
 },
 "nbformat": 4,
 "nbformat_minor": 5
}
