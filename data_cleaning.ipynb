{
 "cells": [
  {
   "cell_type": "code",
   "execution_count": 9,
   "id": "95d6ae08-c28e-4428-b9cc-dbc42589889a",
   "metadata": {
    "editable": true,
    "slideshow": {
     "slide_type": ""
    },
    "tags": []
   },
   "outputs": [
    {
     "name": "stdout",
     "output_type": "stream",
     "text": [
      "<class 'pandas.core.frame.DataFrame'>\n",
      "RangeIndex: 3000 entries, 0 to 2999\n",
      "Data columns (total 24 columns):\n",
      " #   Column                         Non-Null Count  Dtype         \n",
      "---  ------                         --------------  -----         \n",
      " 0   Case_ID                        3000 non-null   object        \n",
      " 1   Date_Reported                  3000 non-null   datetime64[ns]\n",
      " 2   Region                         3000 non-null   object        \n",
      " 3   Country                        3000 non-null   object        \n",
      " 4   Pollutant_Type                 3000 non-null   object        \n",
      " 5   Pollutant_Concentration_mg_kg  3000 non-null   float64       \n",
      " 6   Soil_pH                        3000 non-null   float64       \n",
      " 7   Temperature_C                  3000 non-null   float64       \n",
      " 8   Humidity_%                     3000 non-null   float64       \n",
      " 9   Rainfall_mm                    3000 non-null   float64       \n",
      " 10  Crop_Type                      3000 non-null   object        \n",
      " 11  Farming_Practice               3000 non-null   object        \n",
      " 12  Nearby_Industry                2418 non-null   object        \n",
      " 13  Water_Source_Type              3000 non-null   object        \n",
      " 14  Soil_Texture                   3000 non-null   object        \n",
      " 15  Soil_Organic_Matter_%          3000 non-null   float64       \n",
      " 16  Disease_Type                   3000 non-null   object        \n",
      " 17  Disease_Severity               3000 non-null   object        \n",
      " 18  Health_Symptoms                3000 non-null   object        \n",
      " 19  Age_Group_Affected             3000 non-null   object        \n",
      " 20  Gender_Most_Affected           3000 non-null   object        \n",
      " 21  Mitigation_Measure             3000 non-null   object        \n",
      " 22  Case_Resolved                  3000 non-null   object        \n",
      " 23  Follow_Up_Required             3000 non-null   object        \n",
      "dtypes: datetime64[ns](1), float64(6), object(17)\n",
      "memory usage: 562.6+ KB\n"
     ]
    }
   ],
   "source": [
    "#Changing dates to datetime format\n",
    "import pandas as pd\n",
    "df = pd.read_csv(\"soil_pollution_diseases.csv\")\n",
    "df['Date_Reported'] = pd.to_datetime(df['Date_Reported'], dayfirst=True, errors='coerce')\n",
    "df.info()"
   ]
  },
  {
   "cell_type": "code",
   "execution_count": 11,
   "id": "ce7f230e-fe46-4d21-adfb-9e3ca1f609b7",
   "metadata": {},
   "outputs": [
    {
     "data": {
      "text/plain": [
       "Case_ID                          3000\n",
       "Date_Reported                    3000\n",
       "Region                           3000\n",
       "Country                          3000\n",
       "Pollutant_Type                   3000\n",
       "Pollutant_Concentration_mg_kg    3000\n",
       "Soil_pH                          3000\n",
       "Temperature_C                    3000\n",
       "Humidity_%                       3000\n",
       "Rainfall_mm                      3000\n",
       "Crop_Type                        3000\n",
       "Farming_Practice                 3000\n",
       "Nearby_Industry                  2418\n",
       "Water_Source_Type                3000\n",
       "Soil_Texture                     3000\n",
       "Soil_Organic_Matter_%            3000\n",
       "Disease_Type                     3000\n",
       "Disease_Severity                 3000\n",
       "Health_Symptoms                  3000\n",
       "Age_Group_Affected               3000\n",
       "Gender_Most_Affected             3000\n",
       "Mitigation_Measure               3000\n",
       "Case_Resolved                    3000\n",
       "Follow_Up_Required               3000\n",
       "dtype: int64"
      ]
     },
     "execution_count": 11,
     "metadata": {},
     "output_type": "execute_result"
    }
   ],
   "source": [
    "df.count()\n"
   ]
  },
  {
   "cell_type": "code",
   "execution_count": 17,
   "id": "81d129d3-a44d-4b71-bd73-3251c7d4c61a",
   "metadata": {},
   "outputs": [
    {
     "data": {
      "text/plain": [
       "Case_ID                            0\n",
       "Date_Reported                      0\n",
       "Region                             0\n",
       "Country                            0\n",
       "Pollutant_Type                     0\n",
       "Pollutant_Concentration_mg_kg      0\n",
       "Soil_pH                            0\n",
       "Temperature_C                      0\n",
       "Humidity_%                         0\n",
       "Rainfall_mm                        0\n",
       "Crop_Type                          0\n",
       "Farming_Practice                   0\n",
       "Nearby_Industry                  582\n",
       "Water_Source_Type                  0\n",
       "Soil_Texture                       0\n",
       "Soil_Organic_Matter_%              0\n",
       "Disease_Type                       0\n",
       "Disease_Severity                   0\n",
       "Health_Symptoms                    0\n",
       "Age_Group_Affected                 0\n",
       "Gender_Most_Affected               0\n",
       "Mitigation_Measure                 0\n",
       "Case_Resolved                      0\n",
       "Follow_Up_Required                 0\n",
       "dtype: int64"
      ]
     },
     "execution_count": 17,
     "metadata": {},
     "output_type": "execute_result"
    }
   ],
   "source": [
    "df.isnull().sum()"
   ]
  },
  {
   "cell_type": "code",
   "execution_count": 35,
   "id": "a8deac25-7687-4a1b-ae36-009dbea4bf66",
   "metadata": {},
   "outputs": [
    {
     "data": {
      "text/plain": [
       "0      Mining\n",
       "1      Mining\n",
       "2    Chemical\n",
       "3         NaN\n",
       "4    Chemical\n",
       "Name: Nearby_Industry, dtype: object"
      ]
     },
     "execution_count": 35,
     "metadata": {},
     "output_type": "execute_result"
    }
   ],
   "source": [
    "df.head()"
   ]
  },
  {
   "cell_type": "code",
   "execution_count": 33,
   "id": "2aa6d926-4e05-4b00-a595-852fc4604cd0",
   "metadata": {},
   "outputs": [
    {
     "data": {
      "text/plain": [
       "(3000,)"
      ]
     },
     "execution_count": 33,
     "metadata": {},
     "output_type": "execute_result"
    }
   ],
   "source": [
    "df.shape"
   ]
  },
  {
   "cell_type": "code",
   "execution_count": 19,
   "id": "b4a4f139-1ccd-48d4-b8e1-1e34be967e81",
   "metadata": {},
   "outputs": [],
   "source": [
    "df=df['Nearby_Industry']"
   ]
  },
  {
   "cell_type": "code",
   "execution_count": 21,
   "id": "65e427c3-e05d-41ba-abe9-a63638b37ed9",
   "metadata": {},
   "outputs": [
    {
     "data": {
      "text/plain": [
       "0            Mining\n",
       "1            Mining\n",
       "2          Chemical\n",
       "3               NaN\n",
       "4          Chemical\n",
       "           ...     \n",
       "2995    Agriculture\n",
       "2996    Agriculture\n",
       "2997         Mining\n",
       "2998       Chemical\n",
       "2999        Textile\n",
       "Name: Nearby_Industry, Length: 3000, dtype: object"
      ]
     },
     "execution_count": 21,
     "metadata": {},
     "output_type": "execute_result"
    }
   ],
   "source": [
    "df"
   ]
  },
  {
   "cell_type": "code",
   "execution_count": 23,
   "id": "717f890b-1a38-4210-9ee9-a778aaa7396f",
   "metadata": {},
   "outputs": [
    {
     "ename": "TypeError",
     "evalue": "'tuple' object is not callable",
     "output_type": "error",
     "traceback": [
      "\u001b[1;31m---------------------------------------------------------------------------\u001b[0m",
      "\u001b[1;31mTypeError\u001b[0m                                 Traceback (most recent call last)",
      "Cell \u001b[1;32mIn[23], line 1\u001b[0m\n\u001b[1;32m----> 1\u001b[0m df\u001b[38;5;241m.\u001b[39mshape()\n",
      "\u001b[1;31mTypeError\u001b[0m: 'tuple' object is not callable"
     ]
    }
   ],
   "source": []
  },
  {
   "cell_type": "code",
   "execution_count": null,
   "id": "df497f3b-9b32-45eb-9c7a-12ca043e15f2",
   "metadata": {},
   "outputs": [],
   "source": []
  }
 ],
 "metadata": {
  "kernelspec": {
   "display_name": "Python [conda env:base] *",
   "language": "python",
   "name": "conda-base-py"
  },
  "language_info": {
   "codemirror_mode": {
    "name": "ipython",
    "version": 3
   },
   "file_extension": ".py",
   "mimetype": "text/x-python",
   "name": "python",
   "nbconvert_exporter": "python",
   "pygments_lexer": "ipython3",
   "version": "3.12.7"
  }
 },
 "nbformat": 4,
 "nbformat_minor": 5
}
