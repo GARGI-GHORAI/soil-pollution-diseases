{
 "cells": [
  {
   "cell_type": "code",
   "execution_count": 22,
   "id": "95d6ae08-c28e-4428-b9cc-dbc42589889a",
   "metadata": {},
   "outputs": [],
   "source": [
    "import pandas as pd\n",
    "df = pd.read_csv(\"soil_pollution_diseases.csv\")\n",
    "df['Date_Reported'] = pd.to_datetime(df['Date_Reported'], dayfirst=True, errors='coerce')"
   ]
  },
  {
   "cell_type": "code",
   "execution_count": 24,
   "id": "8635b431-545d-4074-82a1-edf80111572b",
   "metadata": {},
   "outputs": [
    {
     "name": "stdout",
     "output_type": "stream",
     "text": [
      "<class 'pandas.core.frame.DataFrame'>\n",
      "RangeIndex: 3000 entries, 0 to 2999\n",
      "Data columns (total 24 columns):\n",
      " #   Column                         Non-Null Count  Dtype         \n",
      "---  ------                         --------------  -----         \n",
      " 0   Case_ID                        3000 non-null   object        \n",
      " 1   Date_Reported                  3000 non-null   datetime64[ns]\n",
      " 2   Region                         3000 non-null   object        \n",
      " 3   Country                        3000 non-null   object        \n",
      " 4   Pollutant_Type                 3000 non-null   object        \n",
      " 5   Pollutant_Concentration_mg_kg  3000 non-null   float64       \n",
      " 6   Soil_pH                        3000 non-null   float64       \n",
      " 7   Temperature_C                  3000 non-null   float64       \n",
      " 8   Humidity_%                     3000 non-null   float64       \n",
      " 9   Rainfall_mm                    3000 non-null   float64       \n",
      " 10  Crop_Type                      3000 non-null   object        \n",
      " 11  Farming_Practice               3000 non-null   object        \n",
      " 12  Nearby_Industry                2418 non-null   object        \n",
      " 13  Water_Source_Type              3000 non-null   object        \n",
      " 14  Soil_Texture                   3000 non-null   object        \n",
      " 15  Soil_Organic_Matter_%          3000 non-null   float64       \n",
      " 16  Disease_Type                   3000 non-null   object        \n",
      " 17  Disease_Severity               3000 non-null   object        \n",
      " 18  Health_Symptoms                3000 non-null   object        \n",
      " 19  Age_Group_Affected             3000 non-null   object        \n",
      " 20  Gender_Most_Affected           3000 non-null   object        \n",
      " 21  Mitigation_Measure             3000 non-null   object        \n",
      " 22  Case_Resolved                  3000 non-null   object        \n",
      " 23  Follow_Up_Required             3000 non-null   object        \n",
      "dtypes: datetime64[ns](1), float64(6), object(17)\n",
      "memory usage: 562.6+ KB\n"
     ]
    }
   ],
   "source": [
    "df.info()\n",
    "    "
   ]
  },
  {
   "cell_type": "code",
   "execution_count": null,
   "id": "ce7f230e-fe46-4d21-adfb-9e3ca1f609b7",
   "metadata": {},
   "outputs": [],
   "source": []
  }
 ],
 "metadata": {
  "kernelspec": {
   "display_name": "Python 3 (ipykernel)",
   "language": "python",
   "name": "python3"
  },
  "language_info": {
   "codemirror_mode": {
    "name": "ipython",
    "version": 3
   },
   "file_extension": ".py",
   "mimetype": "text/x-python",
   "name": "python",
   "nbconvert_exporter": "python",
   "pygments_lexer": "ipython3",
   "version": "3.12.4"
  }
 },
 "nbformat": 4,
 "nbformat_minor": 5
}
